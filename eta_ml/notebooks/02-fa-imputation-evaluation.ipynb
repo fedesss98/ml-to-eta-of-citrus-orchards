{
 "cells": [
  {
   "cell_type": "code",
   "execution_count": null,
   "id": "2ddae63e-6d81-4609-9b50-5bb43ef2a695",
   "metadata": {},
   "outputs": [],
   "source": [
    "%load_ext watermark\n",
    "%watermark -v -n -m -p numpy,sklearn,pandas,openpyxl,seaborn"
   ]
  },
  {
   "cell_type": "code",
   "execution_count": null,
   "id": "3965b5a7-b28a-4aaf-9ae0-94c30e9913e0",
   "metadata": {},
   "outputs": [],
   "source": [
    "%matplotlib inline\n",
    "import matplotlib.pyplot as plt\n",
    "import os\n",
    "import pandas as pd\n",
    "import seaborn as sns\n",
    "from datetime import datetime\n",
    "\n",
    "PROJ_ROOT = os.path.abspath(os.path.join(os.pardir))\n",
    "print(PROJ_ROOT)"
   ]
  },
  {
   "cell_type": "markdown",
   "id": "1d71b547-bfe4-48f1-b781-0ddbe709c631",
   "metadata": {},
   "source": [
    "# Missing Data: Impute or Drop?"
   ]
  },
  {
   "cell_type": "code",
   "execution_count": null,
   "id": "eda72e58-8b24-4db3-8a05-9eb1af611f43",
   "metadata": {},
   "outputs": [],
   "source": [
    "input_data = PROJ_ROOT + '/data/interim/scaled.pickle'\n",
    "df = pd.read_pickle(input_data)\n",
    "# Take features without ETa\n",
    "eta = df['ETa']\n",
    "df = df.drop(labels='ETa', axis=1)\n",
    "df.head()"
   ]
  },
  {
   "cell_type": "code",
   "execution_count": null,
   "id": "fc1b1d32-84c8-4385-8636-eac0bcbc1cea",
   "metadata": {},
   "outputs": [],
   "source": [
    "df.plot(subplots=True, figsize=(14, 10))\n",
    "plt.savefig(PROJ_ROOT + '/visualization/data/' + 'features_series.png')"
   ]
  },
  {
   "cell_type": "code",
   "execution_count": null,
   "id": "e9203985-ec37-46a8-ac97-1e2e448681e3",
   "metadata": {},
   "outputs": [],
   "source": [
    "plt.figure(figsize=(15, 5))\n",
    "sns.heatmap(df.join(eta).isna().T, \n",
    "            cmap='YlGnBu',\n",
    "            cbar=None)\n",
    "plt.savefig(PROJ_ROOT + '/visualization/data/' + 'missing.png')"
   ]
  },
  {
   "cell_type": "code",
   "execution_count": null,
   "id": "585eff9e-0a2f-444c-8eda-b7f4c08f9ae8",
   "metadata": {},
   "outputs": [],
   "source": [
    "plt.figure(figsize=(15, 5))\n",
    "sns.heatmap(df.join(eta).loc['2011'].isna().T, \n",
    "            cmap='YlGnBu',\n",
    "            cbar=None)\n",
    "plt.savefig(PROJ_ROOT + '/visualization/data/' + 'missing_zoom2011.png')"
   ]
  },
  {
   "cell_type": "code",
   "execution_count": null,
   "id": "c03dda83-1b4c-4c21-bd26-06d539e5796e",
   "metadata": {},
   "outputs": [],
   "source": [
    "plt.figure(figsize=(15, 5))\n",
    "sns.heatmap(df.join(eta).loc['2019'].isna().T, \n",
    "            cmap='YlGnBu',\n",
    "            cbar=None)\n",
    "plt.savefig(PROJ_ROOT + '/visualization/data/' + 'missing_zoom2019.png')"
   ]
  },
  {
   "cell_type": "markdown",
   "id": "d35e743f-42ec-48dc-bca4-a54e476edea6",
   "metadata": {},
   "source": [
    "## Conclusion\n",
    "Better to drop missing values as they are concentrated in big chuncks and it may not be precise to impute them"
   ]
  },
  {
   "cell_type": "code",
   "execution_count": null,
   "id": "d28e6dd0-48e3-4939-ae36-70287d96c9a1",
   "metadata": {},
   "outputs": [],
   "source": [
    "print(\"Number of points before and after the drop:\")\n",
    "print(' -', len(eta.dropna()))\n",
    "print(' -', len(df.join(eta).dropna()))"
   ]
  },
  {
   "cell_type": "code",
   "execution_count": null,
   "id": "ea8fec20-037f-42dd-bf16-aa30340e212b",
   "metadata": {},
   "outputs": [],
   "source": [
    "df = df.join(eta)"
   ]
  },
  {
   "cell_type": "code",
   "execution_count": null,
   "id": "223585d6-6437-4268-95cd-f1873b239f47",
   "metadata": {},
   "outputs": [],
   "source": [
    "features = [col for col in df.columns if col != 'ETa']\n",
    "print(\"Number of points before and after the drop:\")\n",
    "print(' -', len(df))\n",
    "print(' -', len(df.dropna(subset=features)))\n",
    "df.dropna(subset=features)"
   ]
  },
  {
   "cell_type": "code",
   "execution_count": null,
   "id": "6ffada8e-c02a-41c6-8973-fa418a870e90",
   "metadata": {},
   "outputs": [],
   "source": [
    "len(df['ETa'].dropna())"
   ]
  },
  {
   "cell_type": "code",
   "execution_count": null,
   "id": "ee6663e7-28cf-4c79-a1bf-6c9732fa2200",
   "metadata": {},
   "outputs": [],
   "source": [
    "df.plot(subplots=True, figsize=(14,12))"
   ]
  },
  {
   "cell_type": "code",
   "execution_count": null,
   "id": "86d5c39a-c2f9-49b2-89b5-8ad2f1d28d20",
   "metadata": {},
   "outputs": [],
   "source": []
  }
 ],
 "metadata": {
  "kernelspec": {
   "display_name": "Python 3 (ipykernel)",
   "language": "python",
   "name": "python3"
  },
  "language_info": {
   "codemirror_mode": {
    "name": "ipython",
    "version": 3
   },
   "file_extension": ".py",
   "mimetype": "text/x-python",
   "name": "python",
   "nbconvert_exporter": "python",
   "pygments_lexer": "ipython3",
   "version": "3.10.6"
  }
 },
 "nbformat": 4,
 "nbformat_minor": 5
}
