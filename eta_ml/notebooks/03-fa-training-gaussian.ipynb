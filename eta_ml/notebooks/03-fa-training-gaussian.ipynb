{
 "cells": [
  {
   "cell_type": "code",
   "execution_count": 1,
   "id": "aa8139ac-528e-4eb3-a511-0713a4819806",
   "metadata": {},
   "outputs": [
    {
     "name": "stdout",
     "output_type": "stream",
     "text": [
      "Python implementation: CPython\n",
      "Python version       : 3.10.6\n",
      "IPython version      : 8.4.0\n",
      "\n",
      "numpy  : 1.23.2\n",
      "sklearn: 1.1.2\n",
      "pandas : 1.4.3\n",
      "neptune: 0.16.5\n",
      "\n",
      "Compiler    : GCC 10.4.0\n",
      "OS          : Linux\n",
      "Release     : 5.15.0-46-generic\n",
      "Machine     : x86_64\n",
      "Processor   : x86_64\n",
      "CPU cores   : 8\n",
      "Architecture: 64bit\n",
      "\n"
     ]
    }
   ],
   "source": [
    "%load_ext watermark\n",
    "%watermark -v -n -m -p numpy,sklearn,pandas,neptune"
   ]
  },
  {
   "cell_type": "code",
   "execution_count": 2,
   "id": "2e577686-2f25-49ba-bfc7-cda29d4fd53f",
   "metadata": {},
   "outputs": [
    {
     "name": "stdout",
     "output_type": "stream",
     "text": [
      "/home/fedesss/Dropbox/ML_to_ETa/eta_ml\n"
     ]
    }
   ],
   "source": [
    "%matplotlib inline\n",
    "import matplotlib.pyplot as plt\n",
    "import os\n",
    "import pandas as pd\n",
    "import seaborn as sns\n",
    "from datetime import datetime\n",
    "\n",
    "# kernels\n",
    "from sklearn.gaussian_process.kernels import RBF, ExpSineSquared, RationalQuadratic, WhiteKernel\n",
    "\n",
    "\n",
    "PROJ_ROOT = os.path.abspath(os.path.join(os.pardir))\n",
    "print(PROJ_ROOT)"
   ]
  },
  {
   "cell_type": "code",
   "execution_count": 9,
   "id": "38ed6b68-1f92-429e-bb98-54439cec4dca",
   "metadata": {},
   "outputs": [
    {
     "name": "stdout",
     "output_type": "stream",
     "text": [
      "4352\n",
      "4285\n"
     ]
    }
   ],
   "source": [
    "def get_scaled_data():\n",
    "    df = pd.read_pickle(PROJ_ROOT + '/data/interim/scaled.pickle')\n",
    "    return df\n",
    "\n",
    "def get_processed_data():\n",
    "    df = pd.read_pickle(PROJ_ROOT + '/data/processed/' + 'processed.pickle')\n",
    "    return df\n",
    "\n",
    "scaled = get_scaled_data()\n",
    "df = get_processed_data()\n",
    "\n",
    "print(len(scaled))\n",
    "print(len(df))"
   ]
  },
  {
   "cell_type": "code",
   "execution_count": 3,
   "id": "3a01eb56-84a5-424f-aaed-4ed007c9cf20",
   "metadata": {},
   "outputs": [],
   "source": [
    " def make_kernel(**params):\n",
    "     # Long term rising trend\n",
    "     length_scale = params.get('rbf_len')\n",
    "     long_term_trend_kernel = 50.0**2 * RBF(length_scale=length_scale)\n",
    "     # Seasonal variation\n",
    "     length_scale = params.get('sine_len')\n",
    "     seasonal_kernel = (\n",
    "         2.0**2\n",
    "         * RBF(length_scale=100.0)\n",
    "         * ExpSineSquared(length_scale=length_scale, periodicity=1.0, periodicity_bounds=\"fixed\")\n",
    "     )\n",
    "     # Small irregularities\n",
    "     length_scale = params.get('irreg_len')\n",
    "     irregularities_kernel = 0.5**2 * RationalQuadratic(length_scale=length_scale, alpha=1.0)\n",
    "     # Noise\n",
    "     noise_level = params.get('noise_level')\n",
    "     noise_bounds = params.get('noise_bounds')\n",
    "     noise_kernel = 0.1**2 * RBF(length_scale=0.1) + WhiteKernel(\n",
    "         noise_level=noise_level, noise_level_bounds=noise_bounds\n",
    "     )\n",
    "     return long_term_trend_kernel + seasonal_kernel + irregularities_kernel + noise_kernel\n"
   ]
  },
  {
   "cell_type": "code",
   "execution_count": 4,
   "id": "7ab78b51-afb7-4e5d-b609-471f12d008a8",
   "metadata": {},
   "outputs": [],
   "source": [
    " def kernel_params():\n",
    "     kernel_params = {\n",
    "         'rbf_len': 100.0,\n",
    "         'sine_len': 1.0,\n",
    "         'irreg_len': 1.0,\n",
    "         'noise_level': 0.1**2,\n",
    "         'noise_bounds': (1e-5, 1e5),\n",
    "     }\n",
    "     return kernel_params\n",
    " \n",
    " def model_params(kernel):\n",
    "     params = {\n",
    "         'kernel': kernel,\n",
    "         'alpha': 1e-10,\n",
    "         'optimizer': 'fmin_l_bfgs_b',\n",
    "         'n_restarts_optimizer': 1,\n",
    "         'normalize_y':False,\n",
    "     }\n",
    "     return params\n",
    "\n",
    "kernel_params = kernel_params()\n",
    "params = model_params(make_kernel(**kernel_params))\n",
    "params['seed'] = 1998"
   ]
  },
  {
   "cell_type": "code",
   "execution_count": 5,
   "id": "fbb38a69-bfab-46ea-a3a4-1b87c0da7c86",
   "metadata": {},
   "outputs": [
    {
     "data": {
      "text/plain": [
       "{'rbf_len': 100.0,\n",
       " 'sine_len': 1.0,\n",
       " 'irreg_len': 1.0,\n",
       " 'noise_level': 0.010000000000000002,\n",
       " 'noise_bounds': (1e-05, 100000.0)}"
      ]
     },
     "execution_count": 5,
     "metadata": {},
     "output_type": "execute_result"
    }
   ],
   "source": [
    "kernel_params"
   ]
  },
  {
   "cell_type": "code",
   "execution_count": 6,
   "id": "34c37550-e123-4ce6-bb09-57525aa2d902",
   "metadata": {},
   "outputs": [
    {
     "data": {
      "text/plain": [
       "{'kernel': 50**2 * RBF(length_scale=100) + 2**2 * RBF(length_scale=100) * ExpSineSquared(length_scale=1, periodicity=1) + 0.5**2 * RationalQuadratic(alpha=1, length_scale=1) + 0.1**2 * RBF(length_scale=0.1) + WhiteKernel(noise_level=0.01),\n",
       " 'alpha': 1e-10,\n",
       " 'optimizer': 'fmin_l_bfgs_b',\n",
       " 'n_restarts_optimizer': 1,\n",
       " 'normalize_y': False,\n",
       " 'seed': 1998}"
      ]
     },
     "execution_count": 6,
     "metadata": {},
     "output_type": "execute_result"
    }
   ],
   "source": [
    "params"
   ]
  },
  {
   "cell_type": "code",
   "execution_count": null,
   "id": "01f6f668-21bb-4734-85b4-0b07e769a5a8",
   "metadata": {},
   "outputs": [],
   "source": []
  }
 ],
 "metadata": {
  "kernelspec": {
   "display_name": "Python 3 (ipykernel)",
   "language": "python",
   "name": "python3"
  },
  "language_info": {
   "codemirror_mode": {
    "name": "ipython",
    "version": 3
   },
   "file_extension": ".py",
   "mimetype": "text/x-python",
   "name": "python",
   "nbconvert_exporter": "python",
   "pygments_lexer": "ipython3",
   "version": "3.10.6"
  }
 },
 "nbformat": 4,
 "nbformat_minor": 5
}
