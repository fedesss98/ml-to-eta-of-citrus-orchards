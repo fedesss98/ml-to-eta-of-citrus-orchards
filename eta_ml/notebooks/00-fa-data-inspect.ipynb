{
 "cells": [
  {
   "cell_type": "code",
   "execution_count": 1,
   "id": "a48896a8-023a-4e1e-9179-597a003c9557",
   "metadata": {},
   "outputs": [
    {
     "name": "stdout",
     "output_type": "stream",
     "text": [
      "Python implementation: CPython\n",
      "Python version       : 3.10.6\n",
      "IPython version      : 8.4.0\n",
      "\n",
      "numpy  : 1.23.2\n",
      "sklearn: 1.1.2\n",
      "pandas : 1.4.3\n",
      "\n",
      "Compiler    : GCC 10.4.0\n",
      "OS          : Linux\n",
      "Release     : 5.15.0-46-generic\n",
      "Machine     : x86_64\n",
      "Processor   : x86_64\n",
      "CPU cores   : 8\n",
      "Architecture: 64bit\n",
      "\n"
     ]
    }
   ],
   "source": [
    "%load_ext watermark\n",
    "%watermark -v -n -m -p numpy,sklearn,pandas"
   ]
  },
  {
   "cell_type": "code",
   "execution_count": 2,
   "id": "6ff03d40-601a-4bc5-9474-25d5ad45b101",
   "metadata": {},
   "outputs": [
    {
     "name": "stdout",
     "output_type": "stream",
     "text": [
      "/home/fedesss/Dropbox/ML_to_ETa/eta_ml\n"
     ]
    }
   ],
   "source": [
    "%matplotlib inline\n",
    "import pandas as pd\n",
    "import numpy as np\n",
    "import os\n",
    "PROJ_ROOT = os.path.abspath(os.path.join(os.pardir))\n",
    "print(PROJ_ROOT)"
   ]
  },
  {
   "cell_type": "code",
   "execution_count": 3,
   "id": "e76c7f90-2a58-4b2f-8bdc-68ce52688407",
   "metadata": {},
   "outputs": [
    {
     "data": {
      "text/html": [
       "<div>\n",
       "<style scoped>\n",
       "    .dataframe tbody tr th:only-of-type {\n",
       "        vertical-align: middle;\n",
       "    }\n",
       "\n",
       "    .dataframe tbody tr th {\n",
       "        vertical-align: top;\n",
       "    }\n",
       "\n",
       "    .dataframe thead th {\n",
       "        text-align: right;\n",
       "    }\n",
       "</style>\n",
       "<table border=\"1\" class=\"dataframe\">\n",
       "  <thead>\n",
       "    <tr style=\"text-align: right;\">\n",
       "      <th></th>\n",
       "      <th>NDVI</th>\n",
       "      <th>NDWI</th>\n",
       "      <th>ETa</th>\n",
       "      <th>Tmin</th>\n",
       "      <th>Tmax</th>\n",
       "      <th>Tmean</th>\n",
       "      <th>RHmin</th>\n",
       "      <th>RHmax</th>\n",
       "      <th>RHmean</th>\n",
       "      <th>Rs</th>\n",
       "      <th>Ws</th>\n",
       "      <th>Rain</th>\n",
       "      <th>ET0</th>\n",
       "    </tr>\n",
       "    <tr>\n",
       "      <th>Data</th>\n",
       "      <th></th>\n",
       "      <th></th>\n",
       "      <th></th>\n",
       "      <th></th>\n",
       "      <th></th>\n",
       "      <th></th>\n",
       "      <th></th>\n",
       "      <th></th>\n",
       "      <th></th>\n",
       "      <th></th>\n",
       "      <th></th>\n",
       "      <th></th>\n",
       "      <th></th>\n",
       "    </tr>\n",
       "  </thead>\n",
       "  <tbody>\n",
       "    <tr>\n",
       "      <th>2009-02-01</th>\n",
       "      <td>0.78</td>\n",
       "      <td>0.46</td>\n",
       "      <td>NaN</td>\n",
       "      <td>5.8</td>\n",
       "      <td>15.7</td>\n",
       "      <td>10.75</td>\n",
       "      <td>65.0</td>\n",
       "      <td>100.0</td>\n",
       "      <td>82,5</td>\n",
       "      <td>6.40</td>\n",
       "      <td>1.66</td>\n",
       "      <td>6.6</td>\n",
       "      <td>1.19</td>\n",
       "    </tr>\n",
       "    <tr>\n",
       "      <th>2009-02-02</th>\n",
       "      <td>0.78</td>\n",
       "      <td>0.46</td>\n",
       "      <td>NaN</td>\n",
       "      <td>10.2</td>\n",
       "      <td>18.0</td>\n",
       "      <td>14.10</td>\n",
       "      <td>45.0</td>\n",
       "      <td>100.0</td>\n",
       "      <td>72,5</td>\n",
       "      <td>8.02</td>\n",
       "      <td>4.25</td>\n",
       "      <td>0.0</td>\n",
       "      <td>2.42</td>\n",
       "    </tr>\n",
       "    <tr>\n",
       "      <th>2009-02-03</th>\n",
       "      <td>0.79</td>\n",
       "      <td>0.47</td>\n",
       "      <td>NaN</td>\n",
       "      <td>12.7</td>\n",
       "      <td>18.7</td>\n",
       "      <td>15.70</td>\n",
       "      <td>47.0</td>\n",
       "      <td>100.0</td>\n",
       "      <td>73,5</td>\n",
       "      <td>3.43</td>\n",
       "      <td>2.36</td>\n",
       "      <td>4.8</td>\n",
       "      <td>1.77</td>\n",
       "    </tr>\n",
       "    <tr>\n",
       "      <th>2009-02-04</th>\n",
       "      <td>0.76</td>\n",
       "      <td>0.43</td>\n",
       "      <td>NaN</td>\n",
       "      <td>6.3</td>\n",
       "      <td>17.2</td>\n",
       "      <td>11.75</td>\n",
       "      <td>61.0</td>\n",
       "      <td>100.0</td>\n",
       "      <td>80,5</td>\n",
       "      <td>9.95</td>\n",
       "      <td>0.82</td>\n",
       "      <td>1.0</td>\n",
       "      <td>1.25</td>\n",
       "    </tr>\n",
       "    <tr>\n",
       "      <th>2009-02-05</th>\n",
       "      <td>0.76</td>\n",
       "      <td>0.43</td>\n",
       "      <td>NaN</td>\n",
       "      <td>8.3</td>\n",
       "      <td>18.0</td>\n",
       "      <td>13.15</td>\n",
       "      <td>45.0</td>\n",
       "      <td>100.0</td>\n",
       "      <td>72,5</td>\n",
       "      <td>13.49</td>\n",
       "      <td>2.24</td>\n",
       "      <td>0.2</td>\n",
       "      <td>2.02</td>\n",
       "    </tr>\n",
       "  </tbody>\n",
       "</table>\n",
       "</div>"
      ],
      "text/plain": [
       "            NDVI  NDWI  ETa  Tmin  Tmax  Tmean  RHmin  RHmax RHmean     Rs  \\\n",
       "Data                                                                         \n",
       "2009-02-01  0.78  0.46  NaN   5.8  15.7  10.75   65.0  100.0   82,5   6.40   \n",
       "2009-02-02  0.78  0.46  NaN  10.2  18.0  14.10   45.0  100.0   72,5   8.02   \n",
       "2009-02-03  0.79  0.47  NaN  12.7  18.7  15.70   47.0  100.0   73,5   3.43   \n",
       "2009-02-04  0.76  0.43  NaN   6.3  17.2  11.75   61.0  100.0   80,5   9.95   \n",
       "2009-02-05  0.76  0.43  NaN   8.3  18.0  13.15   45.0  100.0   72,5  13.49   \n",
       "\n",
       "              Ws  Rain   ET0  \n",
       "Data                          \n",
       "2009-02-01  1.66   6.6  1.19  \n",
       "2009-02-02  4.25   0.0  2.42  \n",
       "2009-02-03  2.36   4.8  1.77  \n",
       "2009-02-04  0.82   1.0  1.25  \n",
       "2009-02-05  2.24   0.2  2.02  "
      ]
     },
     "execution_count": 3,
     "metadata": {},
     "output_type": "execute_result"
    }
   ],
   "source": [
    "data_fname = os.path.join(PROJ_ROOT, 'data', 'interim', 'castelvetrano.csv')\n",
    "dframe = pd.read_csv(data_fname, sep=';', decimal=',', index_col=0, parse_dates=True, infer_datetime_format=True, dayfirst=True)\n",
    "dframe.head()"
   ]
  },
  {
   "cell_type": "code",
   "execution_count": 4,
   "id": "d946f0d7-4b73-4537-aad3-4af52d6192b7",
   "metadata": {},
   "outputs": [
    {
     "data": {
      "text/plain": [
       "<AxesSubplot:xlabel='Data'>"
      ]
     },
     "execution_count": 4,
     "metadata": {},
     "output_type": "execute_result"
    },
    {
     "data": {
      "image/png": "[encoded data removed]",
      "text/plain": [
       "<Figure size 640x480 with 1 Axes>"
      ]
     },
     "metadata": {},
     "output_type": "display_data"
    }
   ],
   "source": [
    "dframe.Tmin.plot()"
   ]
  },
  {
   "cell_type": "code",
   "execution_count": null,
   "id": "15ea360d-d236-4e3c-8786-6120afdb0b95",
   "metadata": {},
   "outputs": [],
   "source": []
  }
 ],
 "metadata": {
  "kernelspec": {
   "display_name": "Python 3 (ipykernel)",
   "language": "python",
   "name": "python3"
  },
  "language_info": {
   "codemirror_mode": {
    "name": "ipython",
    "version": 3
   },
   "file_extension": ".py",
   "mimetype": "text/x-python",
   "name": "python",
   "nbconvert_exporter": "python",
   "pygments_lexer": "ipython3",
   "version": "3.10.6"
  }
 },
 "nbformat": 4,
 "nbformat_minor": 5
}
